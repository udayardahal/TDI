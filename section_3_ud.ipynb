{
 "cells": [
  {
   "cell_type": "code",
   "execution_count": 3,
   "metadata": {},
   "outputs": [
    {
     "name": "stdout",
     "output_type": "stream",
     "text": [
      "The mean of sum - M(=20        )             =               1.66181\n",
      "The std. dev. of sum - M(=20        )        =               1.48532\n",
      "The mean of number of rolls for M=20          =               3.49750\n"
     ]
    }
   ],
   "source": [
    "import numpy as np\n",
    "\n",
    "def get_result(M):\n",
    "    S = 0   # initialize M\n",
    "    data = [] # rolls data\n",
    "    while S < M :\n",
    "        r = np.random.randint(1,7) #generate random integer in range (1,7)\n",
    "        data.append(r)\n",
    "        S += r\n",
    "    data = np.array(data)\n",
    "    return S,len(data)\n",
    "    \n",
    "\n",
    "N=100000\n",
    "M = 20\n",
    "DataForMean = np.empty(N)\n",
    "DataCount = 0\n",
    "for i in range(N):\n",
    "    Sum, Count = get_result(M)\n",
    "    DataForMean[i] = Sum\n",
    "    DataCount += Count\n",
    "    #if i % (N//10) == 0:\n",
    "        #print(i)\n",
    "mean_S_min_M = np.mean(DataForMean-M)\n",
    "std_S_min_M  = np.std(DataForMean-M)\n",
    "roll_mean    = np.sum(DataForMean)/DataCount        \n",
    "print(\"The mean of sum - M(={0:<10d})             =  {1:20.5f}\".format(M,mean_S_min_M))\n",
    "print(\"The std. dev. of sum - M(={0:<10d})        =  {1:20.5f}\".format(M,std_S_min_M))\n",
    "print(\"The mean of number of rolls for M={0:<10d}  =  {1:20.5f}\".format(M,roll_mean))\n"
   ]
  },
  {
   "cell_type": "code",
   "execution_count": null,
   "metadata": {},
   "outputs": [],
   "source": []
  }
 ],
 "metadata": {
  "kernelspec": {
   "display_name": "Python 3",
   "language": "python",
   "name": "python3"
  },
  "language_info": {
   "codemirror_mode": {
    "name": "ipython",
    "version": 3
   },
   "file_extension": ".py",
   "mimetype": "text/x-python",
   "name": "python",
   "nbconvert_exporter": "python",
   "pygments_lexer": "ipython3",
   "version": "3.7.9"
  }
 },
 "nbformat": 4,
 "nbformat_minor": 4
}
