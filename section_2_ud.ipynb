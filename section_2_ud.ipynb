{
 "cells": [
  {
   "cell_type": "code",
   "execution_count": 6,
   "metadata": {},
   "outputs": [],
   "source": [
    "import pandas as pd\n",
    "import numpy as np\n",
    "import matplotlib.pyplot as plt\n",
    "from scipy.optimize import curve_fit\n",
    "\n",
    "df = pd.read_excel(\"NOPD_-_Data_dictionary_for_Calls_For_Service_Open_Data.xlsx\",usecols=(1,2))\n",
    "df2016 = pd.read_csv(\"Calls_for_Service_2016.csv\",low_memory=False)\n",
    "df2017 = pd.read_csv(\"Calls_for_Service_2017.csv\",low_memory=False)\n",
    "df2018 = pd.read_csv(\"Calls_for_Service_2018.csv\",low_memory=False)\n",
    "df2019 = pd.read_csv(\"Calls_for_Service_2019.csv\",low_memory=False)\n",
    "df2020 = pd.read_csv(\"Call_for_Service_2020.csv\",low_memory=False)\n",
    "\n",
    "df2016 = df2016.rename(columns={\"Type_\":\"Type\"})\n",
    "df2017 = df2017.rename(columns={\"Type_\":\"Type\"})\n",
    "df2018 = df2018.rename(columns={\"Type_\":\"Type\"})\n",
    "df2019 = df2019.rename(columns={\"TimeArrival\":\"TimeArrive\"})"
   ]
  },
  {
   "cell_type": "code",
   "execution_count": 10,
   "metadata": {},
   "outputs": [],
   "source": [
    "df2020_type_distn = df2020['Type'].value_counts(normalize=True)\n",
    "max_ndx = df2020_type_distn.argmax()\n",
    "type_2020, val_2020 = df2020_type_distn.index[max_ndx],df2020_type_distn[max_ndx]\n",
    "\n",
    "df2020_type_distn = df2020['Type'].value_counts(normalize=False)\n",
    "df2016_type_distn = df2016['Type'].value_counts(normalize=False)"
   ]
  },
  {
   "cell_type": "code",
   "execution_count": 11,
   "metadata": {},
   "outputs": [
    {
     "data": {
      "text/plain": [
       "('22A', 0.23926753093150255)"
      ]
     },
     "execution_count": 11,
     "metadata": {},
     "output_type": "execute_result"
    }
   ],
   "source": [
    "type_2020,val_2020"
   ]
  },
  {
   "cell_type": "code",
   "execution_count": 15,
   "metadata": {},
   "outputs": [],
   "source": [
    "k,v = None,0\n",
    "for i in df2016_type_distn.keys():\n",
    "    if i in df2020_type_distn.keys():\n",
    "        p = (df2016_type_distn[i] - df2020_type_distn[i])/ df2016_type_distn[i]\n",
    "        if p > 0:\n",
    "            if p > v:\n",
    "               v = p\n",
    "               k = i\n",
    "    \n",
    "        #print(\"DOne with checking\",i) #iteration \n",
    "    #else: print(\"key\",i,\"not found in 2020 data\")  #sanity check\n",
    "    #print(k,v)"
   ]
  },
  {
   "cell_type": "code",
   "execution_count": 16,
   "metadata": {},
   "outputs": [
    {
     "data": {
      "text/plain": [
       "('17R', 0.9835549610512235)"
      ]
     },
     "execution_count": 16,
     "metadata": {},
     "output_type": "execute_result"
    }
   ],
   "source": [
    "k,v"
   ]
  },
  {
   "cell_type": "code",
   "execution_count": 17,
   "metadata": {},
   "outputs": [],
   "source": [
    "dfs_list = [ df2016, df2017, df2018, df2019, df2020 ]\n",
    "\n",
    "df_all = pd.concat(dfs_list,ignore_index=True)\n",
    "df_all_dropped = df_all.drop_duplicates(subset='NOPD_Item',keep='last')"
   ]
  },
  {
   "cell_type": "code",
   "execution_count": 18,
   "metadata": {},
   "outputs": [],
   "source": [
    "total_duplicates = len(df_all) - len(df_all_dropped)"
   ]
  },
  {
   "cell_type": "code",
   "execution_count": 19,
   "metadata": {},
   "outputs": [
    {
     "data": {
      "text/plain": [
       "5724"
      ]
     },
     "execution_count": 19,
     "metadata": {},
     "output_type": "execute_result"
    }
   ],
   "source": [
    "total_duplicates"
   ]
  },
  {
   "cell_type": "code",
   "execution_count": 20,
   "metadata": {},
   "outputs": [],
   "source": [
    "TA = pd.to_datetime(df_all_dropped['TimeArrive'])  #Arrival Time Series\n",
    "TD = pd.to_datetime(df_all_dropped['TimeDispatch']) #Departure Time Series\n",
    "total_time = (TA - TD).dt.total_seconds() #Total time in seconds\n",
    "total_time = total_time[total_time>0] #filtering non-negative values or zero\n",
    "medianDispatchTime = total_time.median()"
   ]
  },
  {
   "cell_type": "code",
   "execution_count": 21,
   "metadata": {},
   "outputs": [
    {
     "data": {
      "text/plain": [
       "314.0"
      ]
     },
     "execution_count": 21,
     "metadata": {},
     "output_type": "execute_result"
    }
   ],
   "source": [
    "medianDispatchTime"
   ]
  },
  {
   "cell_type": "code",
   "execution_count": 22,
   "metadata": {},
   "outputs": [],
   "source": [
    "districts = df_all_dropped['PoliceDistrict'].unique()\n",
    "districtDispatchTime = {}\n",
    "for i in districts:\n",
    "    temp_data = df_all_dropped[df_all_dropped['PoliceDistrict'] == i]\n",
    "    TD_district = pd.to_datetime(temp_data['TimeDispatch'])\n",
    "    TA_district = pd.to_datetime(temp_data['TimeArrive'])\n",
    "    TT_district = (TA_district - TD_district).dt.total_seconds()\n",
    "    TT_district = TT_district[TT_district>0]\n",
    "    mean_dis, min_dis,max_dis = TT_district.mean(),TT_district.min(),TT_district.max()\n",
    "    districtDispatchTime[i] = mean_dis, mean_dis - min_dis, max_dis - mean_dis"
   ]
  },
  {
   "cell_type": "code",
   "execution_count": 23,
   "metadata": {},
   "outputs": [
    {
     "data": {
      "text/plain": [
       "{8: (438.03171690305135, 437.03171690305135, 210264.96828309694),\n",
       " 0: (680.7837582625118, 679.7837582625118, 66793.2162417375),\n",
       " 7: (742.2272767021705, 741.2272767021705, 215794.77272329782),\n",
       " 6: (425.8739334064649, 424.8739334064649, 54883.12606659353),\n",
       " 4: (518.3221568447182, 517.3221568447182, 228153.67784315528),\n",
       " 1: (418.6906231527432, 417.6906231527432, 105603.30937684726),\n",
       " 5: (506.7537709329933, 505.7537709329933, 152056.246229067),\n",
       " 2: (491.31817854715547, 490.31817854715547, 59807.681821452854),\n",
       " 3: (507.94370428495364, 506.94370428495364, 127928.05629571505)}"
      ]
     },
     "execution_count": 23,
     "metadata": {},
     "output_type": "execute_result"
    }
   ],
   "source": [
    "districtDispatchTime"
   ]
  },
  {
   "cell_type": "code",
   "execution_count": 24,
   "metadata": {},
   "outputs": [],
   "source": [
    "dDT_mean, dDT_shortdiff, dDT_longdiff = np.array(list(districtDispatchTime.values())).mean(axis=0) #mean values from different districts\n",
    "val = dDT_longdiff - dDT_shortdiff"
   ]
  },
  {
   "cell_type": "code",
   "execution_count": 25,
   "metadata": {},
   "outputs": [
    {
     "data": {
      "text/plain": [
       "135173.7899735474"
      ]
     },
     "execution_count": 25,
     "metadata": {},
     "output_type": "execute_result"
    }
   ],
   "source": [
    "val"
   ]
  },
  {
   "cell_type": "code",
   "execution_count": 26,
   "metadata": {},
   "outputs": [],
   "source": [
    "#Months wise data and averaging over same months in different years    \n",
    "MMYY = {i:np.empty(0) for i in range(2016,2021)}\n",
    "\n",
    "for i in MMYY.keys():\n",
    "    temp_values = []\n",
    "    for j in range(1,13):\n",
    "        TD_temp = TD[(TD.dt.year == i) & (TD.dt.month == j)]\n",
    "        TA_temp = TA[TD_temp.index]\n",
    "        TT_temp = (TA_temp - TD_temp).dt.total_seconds()\n",
    "        TT_temp = TT_temp[TT_temp>0]\n",
    "        temp_values.append(TT_temp.mean())\n",
    "    MMYY[i] = np.array(temp_values)"
   ]
  },
  {
   "cell_type": "code",
   "execution_count": 27,
   "metadata": {},
   "outputs": [],
   "source": [
    "def linear_fit(x,m,c):\n",
    "    return m*x + c\n",
    "    "
   ]
  },
  {
   "cell_type": "code",
   "execution_count": 28,
   "metadata": {},
   "outputs": [],
   "source": [
    "y = np.mean(np.array(list(MMYY.values())),axis=0)\n",
    "yerr = np.std(np.array(list(MMYY.values())),axis=0)\n",
    "x = np.linspace(1,12,12)/12\n",
    "popt, pcov = curve_fit(linear_fit,x,y)\n",
    "yfit = linear_fit(x,*popt)"
   ]
  },
  {
   "cell_type": "code",
   "execution_count": 30,
   "metadata": {},
   "outputs": [
    {
     "data": {
      "text/plain": [
       "array([ 45.48138099, 488.74799513])"
      ]
     },
     "execution_count": 30,
     "metadata": {},
     "output_type": "execute_result"
    }
   ],
   "source": [
    "popt"
   ]
  },
  {
   "cell_type": "code",
   "execution_count": 31,
   "metadata": {},
   "outputs": [
    {
     "data": {
      "image/png": "[encoded data removed]",
      "text/plain": [
       "<Figure size 432x288 with 1 Axes>"
      ]
     },
     "metadata": {
      "needs_background": "light"
     },
     "output_type": "display_data"
    }
   ],
   "source": [
    "plt.errorbar(x,y,yerr,fmt=' ',c='r',capsize=8)\n",
    "plt.xlabel(\"Months in number(1/12=Jan , 1=Dec)\")\n",
    "plt.ylabel(\"Mean Dispatch Time (s)\")\n",
    "plt.plot(x,y,'-o',c='b',label='Mean Data')\n",
    "plt.plot(x,yfit,'g--',linewidth=2,label='fit')\n",
    "plt.legend()\n",
    "plt.show()"
   ]
  },
  {
   "cell_type": "code",
   "execution_count": 33,
   "metadata": {},
   "outputs": [],
   "source": [
    "df_all_dropped_location = df_all_dropped.dropna(axis=0,subset=['Location'])\n",
    "df_all_dropped_location1 = df_all_dropped_location[df_all_dropped_location['Location'] == '(0.0, 0.0)']\n",
    "df_all_dropped_location1 = df_all_dropped_location1[df_all_dropped_location1['PoliceDistrict'] != 0]\n",
    "\n",
    "event_count = {}\n",
    "total_events = {}\n",
    "for i in districts:\n",
    "    temp_data = df_all_dropped_location1[df_all_dropped_location1['PoliceDistrict'] == i]\n",
    "    total_events[i] = len(temp_data)\n",
    "    temp_data = temp_data['Type'].value_counts()[temp_data['Type'].value_counts() > 100 ]\n",
    "    event_count[i] = temp_data\n",
    "total_events['all'] = sum(list(total_events.values()))\n",
    "event_count['all'] = df_all_dropped_location1['Type'].value_counts()[df_all_dropped_location1['Type'].value_counts()>100]\n",
    "\n",
    "ratio_dict = {}\n",
    "for i in range(1,9):\n",
    "    for j in event_count[i].keys():\n",
    "        local_prob = event_count[i][j]/total_events[i]\n",
    "        global_prob = event_count['all'][j]/total_events['all']\n",
    "        l_by_g = local_prob/global_prob\n",
    "        ratio_dict[(i,j)] = l_by_g\n",
    "    \n",
    "sorted_ratio = {k: v for k, v in sorted(ratio_dict.items(), key=lambda item: item[1])}\n",
    "district_max = {}\n",
    "for i in range(1,9):\n",
    "    temp = 0\n",
    "    max_key = None\n",
    "    for k,v in sorted_ratio.items():\n",
    "        if k[0] == i:\n",
    "            if v > temp:\n",
    "                temp = v\n",
    "                max_key = k\n",
    "    district_max[max_key] = temp\n",
    "    \n",
    "largest_ratio = {}\n",
    "for k,v in district_max.items():\n",
    "    cond_prob = (event_count['all'][k[1]] - event_count[k[0]][k[1]])/ (total_events['all'] - event_count[k[0]][k[1]])  #P(global|district)\n",
    "    uncond_prob = event_count['all'][k[1]] / total_events['all']\n",
    "    prob_rat = cond_prob / uncond_prob\n",
    "    largest_ratio[k] = prob_rat\n"
   ]
  },
  {
   "cell_type": "code",
   "execution_count": 34,
   "metadata": {},
   "outputs": [
    {
     "data": {
      "text/plain": [
       "{(1, '24K'): 0.07149505567030437,\n",
       " (2, '43B'): 0.8714633417663994,\n",
       " (3, '17J'): 0.46541681552745445,\n",
       " (4, '21J'): 0.8831580349831131,\n",
       " (5, '21J'): 0.8674444381454429,\n",
       " (6, '29ST'): 0.8573905569508524,\n",
       " (7, '21J'): 0.7348275970121456,\n",
       " (8, '24'): 0.7924314764062894}"
      ]
     },
     "execution_count": 34,
     "metadata": {},
     "output_type": "execute_result"
    }
   ],
   "source": [
    "largest_ratio"
   ]
  },
  {
   "cell_type": "code",
   "execution_count": 38,
   "metadata": {},
   "outputs": [
    {
     "data": {
      "text/html": [
       "<div>\n",
       "<style scoped>\n",
       "    .dataframe tbody tr th:only-of-type {\n",
       "        vertical-align: middle;\n",
       "    }\n",
       "\n",
       "    .dataframe tbody tr th {\n",
       "        vertical-align: top;\n",
       "    }\n",
       "\n",
       "    .dataframe thead th {\n",
       "        text-align: right;\n",
       "    }\n",
       "</style>\n",
       "<table border=\"1\" class=\"dataframe\">\n",
       "  <thead>\n",
       "    <tr style=\"text-align: right;\">\n",
       "      <th></th>\n",
       "      <th>NOPD_Item</th>\n",
       "      <th>Type</th>\n",
       "      <th>TypeText</th>\n",
       "      <th>Priority</th>\n",
       "      <th>InitialType</th>\n",
       "      <th>InitialTypeText</th>\n",
       "      <th>InitialPriority</th>\n",
       "      <th>MapX</th>\n",
       "      <th>MapY</th>\n",
       "      <th>TimeCreate</th>\n",
       "      <th>...</th>\n",
       "      <th>TimeArrive</th>\n",
       "      <th>TimeClosed</th>\n",
       "      <th>Disposition</th>\n",
       "      <th>DispositionText</th>\n",
       "      <th>SelfInitiated</th>\n",
       "      <th>Beat</th>\n",
       "      <th>BLOCK_ADDRESS</th>\n",
       "      <th>Zip</th>\n",
       "      <th>PoliceDistrict</th>\n",
       "      <th>Location</th>\n",
       "    </tr>\n",
       "  </thead>\n",
       "  <tbody>\n",
       "    <tr>\n",
       "      <th>0</th>\n",
       "      <td>D0808216</td>\n",
       "      <td>24</td>\n",
       "      <td>MEDICAL</td>\n",
       "      <td>2B</td>\n",
       "      <td>21</td>\n",
       "      <td>COMPLAINT OTHER</td>\n",
       "      <td>2A</td>\n",
       "      <td>37369000</td>\n",
       "      <td>3513814</td>\n",
       "      <td>04/07/2016 09:24:16 PM</td>\n",
       "      <td>...</td>\n",
       "      <td>04/07/2016 09:37:10 PM</td>\n",
       "      <td>04/07/2016 09:47:44 PM</td>\n",
       "      <td>NAT</td>\n",
       "      <td>Necessary Action Taken</td>\n",
       "      <td>N</td>\n",
       "      <td>8F02</td>\n",
       "      <td>Dauphine St &amp; Pauger St</td>\n",
       "      <td>70116</td>\n",
       "      <td>8</td>\n",
       "      <td>(0.0, 0.0)</td>\n",
       "    </tr>\n",
       "  </tbody>\n",
       "</table>\n",
       "<p>1 rows × 21 columns</p>\n",
       "</div>"
      ],
      "text/plain": [
       "  NOPD_Item Type TypeText Priority InitialType  InitialTypeText  \\\n",
       "0  D0808216   24  MEDICAL       2B          21  COMPLAINT OTHER   \n",
       "\n",
       "  InitialPriority      MapX     MapY              TimeCreate  ...  \\\n",
       "0              2A  37369000  3513814  04/07/2016 09:24:16 PM  ...   \n",
       "\n",
       "               TimeArrive              TimeClosed Disposition  \\\n",
       "0  04/07/2016 09:37:10 PM  04/07/2016 09:47:44 PM         NAT   \n",
       "\n",
       "          DispositionText SelfInitiated  Beat            BLOCK_ADDRESS    Zip  \\\n",
       "0  Necessary Action Taken             N  8F02  Dauphine St & Pauger St  70116   \n",
       "\n",
       "  PoliceDistrict    Location  \n",
       "0              8  (0.0, 0.0)  \n",
       "\n",
       "[1 rows x 21 columns]"
      ]
     },
     "execution_count": 38,
     "metadata": {},
     "output_type": "execute_result"
    }
   ],
   "source": [
    "df_all_dropped_location1[df_all_dropped_location1['Type'] == '24'].head(1)"
   ]
  },
  {
   "cell_type": "code",
   "execution_count": 44,
   "metadata": {},
   "outputs": [
    {
     "name": "stdout",
     "output_type": "stream",
     "text": [
      "District                  Area(sq. km)\n",
      "    0                     384.44561\n",
      "    1                       2.97495\n",
      "    2                       5.71076\n",
      "    3                      16.76961\n",
      "    4                      10.20836\n",
      "    5                       5.27350\n",
      "    6                       3.04553\n",
      "    7                      28.49802\n",
      "    8                       0.96722\n"
     ]
    }
   ],
   "source": [
    "df_all_dropped_location = df_all_dropped.dropna(axis=0,subset=['Location'])\n",
    "\n",
    "print(\"{0:8s}{1:>30s}\".format(\"District\",\"Area(sq. km)\"))\n",
    "for i in sorted(districts):\n",
    "        district_loc = df_all_dropped_location[df_all_dropped['PoliceDistrict'] == i]\n",
    "        arr = tuple(district_loc['Location'].replace(\",\",\"\",regex=True).replace(\"POINT \",\"\",regex=True).str.replace(\")\",\"\",).str.replace(\"(\",\"\"))\n",
    "        lat = []\n",
    "        lon = []\n",
    "        conv = 111 # in kilometers (1degree = 111km)\n",
    "        ct = 0\n",
    "        for v in arr[:]:\n",
    "            temp = v.lstrip().split()\n",
    "            temp = [float(temp[0]),float(temp[1])]\n",
    "            try:\n",
    "                if abs((temp[0])) < 0.00001 or abs((temp[1])) < 0.00001:\n",
    "                    pass\n",
    "                else:\n",
    "                    if temp[0] > 0:\n",
    "                       lat.append(temp[0])\n",
    "                    else: lon.append(temp[0])\n",
    "                    if temp[1] > 0:\n",
    "                        lat.append(temp[1])\n",
    "                    else: lon.append(temp[1])\n",
    "                    \n",
    "            except:\n",
    "                print('Warning: Recheck if there is ERROR in Data')\n",
    "            ct += 1\n",
    "        lat = np.array(lat)\n",
    "        lon = np.array(lon)\n",
    "        lat = lat[abs(lat) < 32]\n",
    "        lon = lon[abs(lon) > 85]\n",
    "        std_lat = np.std(np.array(lat))\n",
    "        std_lon = np.std(np.array(lon))\n",
    "        #print(std_lat,std_lon)\n",
    "        Area_of_ellipse = np.pi * std_lat * std_lon * conv**2\n",
    "        print(\"{0:5d}{1:30.5f}\".format(int(i),Area_of_ellipse))\n",
    "        "
   ]
  },
  {
   "cell_type": "code",
   "execution_count": 43,
   "metadata": {},
   "outputs": [],
   "source": [
    "#Ignoring the District 0; the largest district is District 7"
   ]
  },
  {
   "cell_type": "code",
   "execution_count": null,
   "metadata": {},
   "outputs": [],
   "source": []
  }
 ],
 "metadata": {
  "kernelspec": {
   "display_name": "Python 3",
   "language": "python",
   "name": "python3"
  },
  "language_info": {
   "codemirror_mode": {
    "name": "ipython",
    "version": 3
   },
   "file_extension": ".py",
   "mimetype": "text/x-python",
   "name": "python",
   "nbconvert_exporter": "python",
   "pygments_lexer": "ipython3",
   "version": "3.7.9"
  }
 },
 "nbformat": 4,
 "nbformat_minor": 4
}
